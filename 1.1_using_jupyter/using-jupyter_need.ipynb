{
 "cells": [
  {
   "cell_type": "markdown",
   "id": "8d2f34eb-0264-4c96-8820-f9a968664483",
   "metadata": {},
   "source": [
    "`print ('Hello World!')`"
   ]
  },
  {
   "cell_type": "markdown",
   "id": "30eb1cb7-580b-457f-8e43-6c11b26f0ca5",
   "metadata": {},
   "source": [
    "The ships hung in the sky in much the same way that bricks don’t."
   ]
  },
  {
   "cell_type": "markdown",
   "id": "9028770d-19aa-45cc-9059-782b4ee9f463",
   "metadata": {},
   "source": [
    "The ships *hung in the sky* in much the same way that **bricks don’t**.<sup>1</sup><sub>QUOTE</sub>"
   ]
  },
  {
   "cell_type": "markdown",
   "id": "419b2b4b-c6a3-4fcb-8b82-66c69a3456d8",
   "metadata": {},
   "source": [
    "`print('Hello World!')`"
   ]
  },
  {
   "cell_type": "markdown",
   "id": "b86ceec3-af35-451f-8c67-9bfa2ff54b8e",
   "metadata": {},
   "source": [
    "```python\n",
    "print('Hello World!')\n",
    "```"
   ]
  },
  {
   "cell_type": "markdown",
   "id": "2472759c-2af4-4b42-a3ea-b02e62fd0aa5",
   "metadata": {},
   "source": [
    "[SP2273 Website](https://sps.nus.edu.sg/sp2273)"
   ]
  },
  {
   "cell_type": "markdown",
   "id": "5d381177-32eb-4435-9ed2-6323adb09b59",
   "metadata": {},
   "source": [
    "![](https://nus.edu.sg/images/default-source/base/logo.png)"
   ]
  },
  {
   "cell_type": "markdown",
   "id": "a494c1ea-65a1-4c50-97d8-276bea01b745",
   "metadata": {},
   "source": [
    "| A    |  B   |    C |\n",
    "| :--- | :--: | ---: |\n",
    "| a1   |  b1  |   c1 |\n",
    "| a2   |  b2  |   c2 |\n",
    "| a3   |  b3  |   c3 |"
   ]
  },
  {
   "cell_type": "markdown",
   "id": "160989b8-051c-4ef4-abcc-cf523c42cad5",
   "metadata": {},
   "source": [
    "1. hello\n",
    "1. hi\n",
    "   - hey"
   ]
  },
  {
   "cell_type": "code",
   "execution_count": null,
   "id": "974bf0ba-f589-4908-affc-67c0f30921bc",
   "metadata": {},
   "outputs": [],
   "source": []
  }
 ],
 "metadata": {
  "kernelspec": {
   "display_name": "Python 3 (ipykernel)",
   "language": "python",
   "name": "python3"
  },
  "language_info": {
   "codemirror_mode": {
    "name": "ipython",
    "version": 3
   },
   "file_extension": ".py",
   "mimetype": "text/x-python",
   "name": "python",
   "nbconvert_exporter": "python",
   "pygments_lexer": "ipython3",
   "version": "3.13.5"
  }
 },
 "nbformat": 4,
 "nbformat_minor": 5
}
