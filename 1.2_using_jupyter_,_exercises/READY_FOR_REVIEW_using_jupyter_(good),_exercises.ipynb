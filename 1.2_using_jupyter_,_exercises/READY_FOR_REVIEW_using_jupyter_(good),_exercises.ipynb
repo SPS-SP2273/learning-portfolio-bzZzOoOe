{
 "cells": [
  {
   "attachments": {},
   "cell_type": "markdown",
   "id": "123456",
   "metadata": {},
   "source": [
    "<div style=\"text-align:left;font-size:2em\"><span style=\"font-weight:bolder;font-size:1.25em\">SP2273 | Learning Portfolio</span><br><br><span style=\"font-weight:bold;color:darkred\">Using Jupyter (Good), Exercises</span></div>"
   ]
  },
  {
   "cell_type": "code",
   "execution_count": null,
   "id": "00de06b8-4baf-46c0-a135-0dff7a4f0a4b",
   "metadata": {},
   "outputs": [],
   "source": [
    "while True:\n",
    "    print('*', end='') \n",
    "# I run this code and try to interrupt kernel in front of the TA during tutorial but my laptop just cannot handle this code :("
   ]
  },
  {
   "cell_type": "markdown",
   "id": "feec9b88-045d-4544-b10a-bc3597c855b2",
   "metadata": {},
   "source": [
    "## Exercise 2 (Resetting & Restarting the Kernal)"
   ]
  },
  {
   "cell_type": "code",
   "execution_count": 4,
   "id": "700e6b2d-28c3-48c7-972e-852a29419379",
   "metadata": {},
   "outputs": [],
   "source": [
    "print='PRINT'"
   ]
  },
  {
   "cell_type": "code",
   "execution_count": 5,
   "id": "08f147b9-dd2d-41f0-8f7f-4145f7d44696",
   "metadata": {},
   "outputs": [
    {
     "ename": "TypeError",
     "evalue": "'str' object is not callable",
     "output_type": "error",
     "traceback": [
      "\u001b[31m---------------------------------------------------------------------------\u001b[39m",
      "\u001b[31mTypeError\u001b[39m                                 Traceback (most recent call last)",
      "\u001b[36mCell\u001b[39m\u001b[36m \u001b[39m\u001b[32mIn[5]\u001b[39m\u001b[32m, line 1\u001b[39m\n\u001b[32m----> \u001b[39m\u001b[32m1\u001b[39m \u001b[38;5;28;43mprint\u001b[39;49m\u001b[43m(\u001b[49m\u001b[33;43m'\u001b[39;49m\u001b[33;43mHello World\u001b[39;49m\u001b[33;43m'\u001b[39;49m\u001b[43m)\u001b[49m\n",
      "\u001b[31mTypeError\u001b[39m: 'str' object is not callable"
     ]
    }
   ],
   "source": [
    "print('Hello World')"
   ]
  },
  {
   "cell_type": "code",
   "execution_count": 1,
   "id": "339d4b31-212f-4171-88a8-22531d034d5a",
   "metadata": {},
   "outputs": [
    {
     "name": "stdout",
     "output_type": "stream",
     "text": [
      "Hello World\n"
     ]
    }
   ],
   "source": [
    "print('Hello World')\n",
    "#kernal restarted "
   ]
  },
  {
   "cell_type": "markdown",
   "id": "22a74fae-3752-4219-840b-5e76e8d61142",
   "metadata": {},
   "source": [
    "## Exercise 3 (Timing Stuff)"
   ]
  },
  {
   "cell_type": "code",
   "execution_count": 3,
   "id": "1c6957d2-fe6e-4526-a119-113a50288629",
   "metadata": {},
   "outputs": [
    {
     "name": "stdout",
     "output_type": "stream",
     "text": [
      "6.44 ns ± 0.279 ns per loop (mean ± std. dev. of 7 runs, 100,000,000 loops each)\n"
     ]
    }
   ],
   "source": [
    "%%timeit \n",
    "squares = [i**2 for i in range(10)]\n",
    "\n",
    "# print(squares); without #, python will actually print out the output"
   ]
  },
  {
   "cell_type": "code",
   "execution_count": 2,
   "id": "61cf3219-5835-4e95-8bc3-1c9b3b5e4967",
   "metadata": {},
   "outputs": [
    {
     "name": "stdout",
     "output_type": "stream",
     "text": [
      "412 ns ± 3.04 ns per loop (mean ± std. dev. of 7 runs, 1,000,000 loops each)\n"
     ]
    }
   ],
   "source": [
    "%%timeit\n",
    "\n",
    "squares = list()\n",
    "for i in range(10):\n",
    "    squares.append(i**2)\n",
    "# print(squares)\n",
    "# %% has effect on the whole cell, % has effect on the line\n"
   ]
  },
  {
   "cell_type": "markdown",
   "id": "c6ee024d-67fe-44a1-9fa6-9b26e6733531",
   "metadata": {},
   "source": [
    "412ns means the average time taken to run this code per loop in nanosecond(wow so fast!)\n",
    "\n",
    "± 3.04ns means the standard deviation of the time calculated\n",
    "\n",
    "7 runs means that %%timeit measures the code 7 times \n",
    "\n",
    "1,000,000 loops means that each run, the code is run 1,000,000 loops"
   ]
  },
  {
   "cell_type": "markdown",
   "id": "b46c5ecc-ebe8-484e-97b5-ef5f03cd812a",
   "metadata": {},
   "source": [
    "## Footnotes"
   ]
  }
 ],
 "metadata": {
  "kernelspec": {
   "display_name": "Python 3 (ipykernel)",
   "language": "python",
   "name": "python3"
  },
  "language_info": {
   "codemirror_mode": {
    "name": "ipython",
    "version": 3
   },
   "file_extension": ".py",
   "mimetype": "text/x-python",
   "name": "python",
   "nbconvert_exporter": "python",
   "pygments_lexer": "ipython3",
   "version": "3.13.5"
  },
  "toc": {
   "base_numbering": 1,
   "nav_menu": {},
   "number_sections": true,
   "sideBar": true,
   "skip_h1_title": false,
   "title_cell": "Table of Contents",
   "title_sidebar": "Contents",
   "toc_cell": false,
   "toc_position": {},
   "toc_section_display": true,
   "toc_window_display": false
  },
  "vscode": {
   "interpreter": {
    "hash": "31f2aee4e71d21fbe5cf8b01ff0e069b9275f58929596ceb00d14d90e3e16cd6"
   }
  }
 },
 "nbformat": 4,
 "nbformat_minor": 5
}
