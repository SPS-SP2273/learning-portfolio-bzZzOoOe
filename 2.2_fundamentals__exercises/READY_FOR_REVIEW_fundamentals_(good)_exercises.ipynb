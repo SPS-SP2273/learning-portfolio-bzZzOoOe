{
 "cells": [
  {
   "attachments": {},
   "cell_type": "markdown",
   "id": "123456",
   "metadata": {},
   "source": [
    "<div style=\"text-align:left;font-size:2em\"><span style=\"font-weight:bolder;font-size:1.25em\">SP2273 | Learning Portfolio</span><br><br><span style=\"font-weight:bold;color:darkred\">Fundamentals (Good) Exercises</span></div>"
   ]
  },
  {
   "cell_type": "markdown",
   "id": "7a30b60b-666e-49b2-aa73-95815ef9a236",
   "metadata": {},
   "source": [
    "## Exercise 1"
   ]
  },
  {
   "cell_type": "code",
   "execution_count": 1,
   "id": "0e6e689c-9126-41a5-b3e6-bb82846917d1",
   "metadata": {},
   "outputs": [
    {
     "name": "stdin",
     "output_type": "stream",
     "text": [
      "Please provide me with a number? 0828\n"
     ]
    },
    {
     "name": "stdout",
     "output_type": "stream",
     "text": [
      "You entered 0828\n"
     ]
    }
   ],
   "source": [
    "user_input = input('Please provide me with a number?')\n",
    "print('You entered', user_input)"
   ]
  },
  {
   "cell_type": "code",
   "execution_count": 6,
   "id": "c96bc9c7-b0a4-41c6-8511-2f1efd77f754",
   "metadata": {},
   "outputs": [
    {
     "name": "stdin",
     "output_type": "stream",
     "text": [
      "Can I have your name? Zuting\n"
     ]
    },
    {
     "name": "stdout",
     "output_type": "stream",
     "text": [
      "How you doin Zuting !\n"
     ]
    }
   ],
   "source": [
    "user_input = input('Can I have your name?')\n",
    "print(\"How you doin\",user_input,\"!\")"
   ]
  },
  {
   "cell_type": "code",
   "execution_count": 5,
   "id": "ac3a7d54-de41-4595-abe8-ba1cbccf1e83",
   "metadata": {},
   "outputs": [
    {
     "name": "stdin",
     "output_type": "stream",
     "text": [
      "Can I have your name? zuting\n",
      "Can I have your age? 20\n"
     ]
    },
    {
     "name": "stdout",
     "output_type": "stream",
     "text": [
      "My name is zuting and I am 20 years old.\n"
     ]
    }
   ],
   "source": [
    "user_input_a= input('Can I have your name?')\n",
    "user_input_b= input('Can I have your age?')\n",
    "print(\"My name is\",user_input_a,\"and I am\", user_input_b,\"years old.\")"
   ]
  },
  {
   "cell_type": "code",
   "execution_count": 17,
   "id": "e8c3ec04-a356-4d60-b932-a056cee2442c",
   "metadata": {},
   "outputs": [
    {
     "name": "stdout",
     "output_type": "stream",
     "text": [
      "The value of pi to 2 decimal places is: 3.14\n",
      "The value of pi to 3 decimal places is: 3.142\n",
      "The value of pi to 4 decimal places is: 3.1416\n"
     ]
    }
   ],
   "source": [
    "pi = 3.141592653589793\n",
    "print(\"The value of pi to 2 decimal places is:\"f'{pi: .2f}')\n",
    "print(\"The value of pi to 3 decimal places is:\"f'{pi: .3f}')\n",
    "print(\"The value of pi to 4 decimal places is:\"f'{pi: .4f}')"
   ]
  },
  {
   "cell_type": "code",
   "execution_count": 24,
   "id": "073720bc-7274-45be-b492-4f2cc67538af",
   "metadata": {},
   "outputs": [
    {
     "name": "stdout",
     "output_type": "stream",
     "text": [
      "Apple      $ 0.99          \n",
      "Banana     $ 0.59          \n",
      "Orange     $ 1.29          \n"
     ]
    }
   ],
   "source": [
    "text_a = \"Apple\"\n",
    "text_b = \"$ 0.99\"\n",
    "print(f'{text_a:<10} {text_b:<16}')\n",
    "text_c = \"Banana\"\n",
    "text_d = \"$ 0.59\"\n",
    "print(f'{text_c:<10} {text_d:<16}')\n",
    "text_e = \"Orange\"\n",
    "text_f = \"$ 1.29\"\n",
    "print(f'{text_e:<10} {text_f:<16}')"
   ]
  },
  {
   "cell_type": "markdown",
   "id": "bd239a45-6677-4ce0-8b06-6154701be773",
   "metadata": {},
   "source": [
    "## Exercise 2"
   ]
  },
  {
   "cell_type": "code",
   "execution_count": 3,
   "id": "58851ea8-8f93-4014-b2c8-75e1cc0f7568",
   "metadata": {},
   "outputs": [
    {
     "name": "stdin",
     "output_type": "stream",
     "text": [
      "Enter the student's score: 100\n"
     ]
    },
    {
     "name": "stdout",
     "output_type": "stream",
     "text": [
      "The student's letter grade is: A\n"
     ]
    }
   ],
   "source": [
    "user_input = float(input(\"Enter the student's score:\"))\n",
    "if int(70) <= user_input <= int(100):\n",
    "    print(\"The student's letter grade is: A\")\n",
    "elif int(50) <= user_input <= int(69):\n",
    "    print(\"The student's letter grade is: B\")\n",
    "elif int(35) <= user_input <= int(49):\n",
    "    print(\"The student's letter grade is: C\")\n",
    "elif int(0) <= user_input <= int(35):\n",
    "    print(\"The student's letter grade is: Fail\")\n",
    "else:\n",
    "    print(\"Please enter your numerical grade properly.\")\n",
    "\n",
    "# need int() to make number an actual integer; otherwise it will be a word "
   ]
  },
  {
   "cell_type": "markdown",
   "id": "4c2e6335-57b4-4b7c-beab-3584e7c8de28",
   "metadata": {},
   "source": [
    "## Exercise 3"
   ]
  },
  {
   "cell_type": "code",
   "execution_count": 14,
   "id": "1223ea74-47d7-440d-a18b-f05f817fbc3a",
   "metadata": {},
   "outputs": [
    {
     "name": "stdout",
     "output_type": "stream",
     "text": [
      "120\n",
      "Invalid input\n"
     ]
    }
   ],
   "source": [
    "def factorial(n):\n",
    "    if n < 0:\n",
    "        return \"Invalid input\"\n",
    "    elif n != 0:\n",
    "        import math\n",
    "        return math.factorial(n)\n",
    "    else:\n",
    "        result = 1\n",
    "        for number in range(1, n+1):\n",
    "            result += number\n",
    "        return result\n",
    "\n",
    "print(factorial(5))   # Testing, expected output: 120\n",
    "print(factorial(-1))  # Testing, expected output: Invalid input"
   ]
  }
 ],
 "metadata": {
  "kernelspec": {
   "display_name": "Python 3 (ipykernel)",
   "language": "python",
   "name": "python3"
  },
  "language_info": {
   "codemirror_mode": {
    "name": "ipython",
    "version": 3
   },
   "file_extension": ".py",
   "mimetype": "text/x-python",
   "name": "python",
   "nbconvert_exporter": "python",
   "pygments_lexer": "ipython3",
   "version": "3.13.5"
  },
  "toc": {
   "base_numbering": 1,
   "nav_menu": {},
   "number_sections": true,
   "sideBar": true,
   "skip_h1_title": false,
   "title_cell": "Table of Contents",
   "title_sidebar": "Contents",
   "toc_cell": false,
   "toc_position": {},
   "toc_section_display": true,
   "toc_window_display": false
  },
  "vscode": {
   "interpreter": {
    "hash": "31f2aee4e71d21fbe5cf8b01ff0e069b9275f58929596ceb00d14d90e3e16cd6"
   }
  }
 },
 "nbformat": 4,
 "nbformat_minor": 5
}
