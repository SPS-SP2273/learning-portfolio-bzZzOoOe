{
 "cells": [
  {
   "attachments": {},
   "cell_type": "markdown",
   "id": "123456",
   "metadata": {},
   "source": [
    "<div style=\"text-align:left;font-size:2em\"><span style=\"font-weight:bolder;font-size:1.25em\">SP2273 | Learning Portfolio</span><br><br><span style=\"font-weight:bold;color:darkred\">Fundamentals (Need) Exercises</span></div>"
   ]
  },
  {
   "cell_type": "markdown",
   "id": "10e66933-269c-418d-a172-7fe13705bf5b",
   "metadata": {},
   "source": [
    "## Exercise 1"
   ]
  },
  {
   "cell_type": "markdown",
   "id": "dc41cbb8-5c63-4049-ab23-f65ec21d50a4",
   "metadata": {},
   "source": [
    "to produce output - print()\n",
    "\n",
    "to annotate - #\n",
    "\n",
    "to set something equal - =\n",
    "\n",
    "to check if something is equal - ==\n",
    "\n",
    "to make decisions - \n",
    "    if:\n",
    "        else:\n",
    "        \n",
    "to seperate True and False 'blocks' - indentations(spaces)\n",
    "\n",
    "to call function/use bracket for math - ()\n",
    "\n",
    "to list data - []\n",
    "\n",
    "to store data in dictionary - {}\n",
    "\n",
    "to square root - sqrt()\n",
    "\n",
    "to import package - import\n",
    "\n",
    "to indicate ownership - ."
   ]
  },
  {
   "cell_type": "markdown",
   "id": "e67f102e-2acf-4262-b431-8104fd4a4048",
   "metadata": {},
   "source": [
    "## Exercise 2"
   ]
  },
  {
   "cell_type": "code",
   "execution_count": 2,
   "id": "06331b11-c7bb-467b-afd4-c8dc933cf1bd",
   "metadata": {},
   "outputs": [
    {
     "ename": "IndentationError",
     "evalue": "unindent does not match any outer indentation level (<string>, line 3)",
     "output_type": "error",
     "traceback": [
      "  \u001b[36mFile \u001b[39m\u001b[32m<string>:3\u001b[39m\n\u001b[31m    \u001b[39m\u001b[31mPrint(x, y, z)\u001b[39m\n                  ^\n\u001b[31mIndentationError\u001b[39m\u001b[31m:\u001b[39m unindent does not match any outer indentation level\n"
     ]
    }
   ],
   "source": [
    "x, y = 3, 4\n",
    "        z = sqrt(x*2 + y**2)\n",
    "    Print(x, y, z)"
   ]
  },
  {
   "cell_type": "code",
   "execution_count": 6,
   "id": "72e9b786-a15c-42de-ba98-4d0813061f27",
   "metadata": {},
   "outputs": [
    {
     "name": "stdout",
     "output_type": "stream",
     "text": [
      "3 4 5.0\n"
     ]
    }
   ],
   "source": [
    "import numpy as np\n",
    "x, y = 3, 4\n",
    "z = np.sqrt(x**2 + y**2)\n",
    "print(x, y, z)"
   ]
  },
  {
   "cell_type": "markdown",
   "id": "345ab08d-c632-4efa-88b5-49c1e62714bb",
   "metadata": {},
   "source": [
    "## Exercise 3"
   ]
  },
  {
   "cell_type": "markdown",
   "id": "9f1dc9ee-1373-4d85-b514-d3e239629d1d",
   "metadata": {},
   "source": [
    "| #  |  Term   |   Description |\n",
    "| :---: | :-- | :--- |\n",
    "| 1   |  Function  |  It carries out a specific task based on a command |\n",
    "| 2   |  Arguments  |   It is inserted into a function as input and undergo the process to produce output |\n",
    "| 3   |  Comments  |   It is a form of extre information that will be ignored by Python, which can be used as annotation |\n",
    "| 4   |  Indentations  |   It starts a new line with space to group a series of codes into blocks|\n",
    "| 5   |  Packages  |  It is a collation of codes that falls into a general category, which can be imported to enhance the features of Python  |\n",
    "| 6   |  .  |   It is to indicate that the function belongs to a package and to access specific functions |\n",
    "| 7   |  :  |   It is to define the output for true answers and false answers |\n",
    "| 8   |  []  |   It presents a list of data |\n",
    "| 9   |  [[],[]]  |   It presents 2 lists in a list |\n",
    "| 10  |  {}  |   It stores data in a dictionary where information can be accessed by using a key to identify a value  |"
   ]
  },
  {
   "cell_type": "markdown",
   "id": "126c6491-4dd6-43a1-842d-799556a85709",
   "metadata": {},
   "source": [
    "## Exercise 4"
   ]
  },
  {
   "cell_type": "code",
   "execution_count": 21,
   "id": "27c83f03-95ad-498d-a8bd-bcc1a26bf10f",
   "metadata": {},
   "outputs": [
    {
     "data": {
      "text/plain": [
       "2.5"
      ]
     },
     "execution_count": 21,
     "metadata": {},
     "output_type": "execute_result"
    }
   ],
   "source": [
    "5/2  # divide to give decimal answer"
   ]
  },
  {
   "cell_type": "code",
   "execution_count": 22,
   "id": "156b3a78-f668-4abf-9dee-60c00265bc7b",
   "metadata": {},
   "outputs": [
    {
     "data": {
      "text/plain": [
       "2"
      ]
     },
     "execution_count": 22,
     "metadata": {},
     "output_type": "execute_result"
    }
   ],
   "source": [
    "5//2  # divide to give an integer quotient"
   ]
  },
  {
   "cell_type": "code",
   "execution_count": 23,
   "id": "90666942-aaed-4b79-98ae-fcb1f3fe3714",
   "metadata": {},
   "outputs": [
    {
     "data": {
      "text/plain": [
       "1"
      ]
     },
     "execution_count": 23,
     "metadata": {},
     "output_type": "execute_result"
    }
   ],
   "source": [
    "5%2 # divide to give the remainder"
   ]
  }
 ],
 "metadata": {
  "kernelspec": {
   "display_name": "Python 3 (ipykernel)",
   "language": "python",
   "name": "python3"
  },
  "language_info": {
   "codemirror_mode": {
    "name": "ipython",
    "version": 3
   },
   "file_extension": ".py",
   "mimetype": "text/x-python",
   "name": "python",
   "nbconvert_exporter": "python",
   "pygments_lexer": "ipython3",
   "version": "3.13.5"
  },
  "toc": {
   "base_numbering": 1,
   "nav_menu": {},
   "number_sections": true,
   "sideBar": true,
   "skip_h1_title": false,
   "title_cell": "Table of Contents",
   "title_sidebar": "Contents",
   "toc_cell": false,
   "toc_position": {},
   "toc_section_display": true,
   "toc_window_display": false
  },
  "vscode": {
   "interpreter": {
    "hash": "31f2aee4e71d21fbe5cf8b01ff0e069b9275f58929596ceb00d14d90e3e16cd6"
   }
  }
 },
 "nbformat": 4,
 "nbformat_minor": 5
}
