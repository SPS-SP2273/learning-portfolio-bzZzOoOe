{
 "cells": [
  {
   "attachments": {},
   "cell_type": "markdown",
   "id": "123456",
   "metadata": {},
   "source": [
    "<div style=\"text-align:left;font-size:2em\"><span style=\"font-weight:bolder;font-size:1.25em\">SP2273 | Learning Portfolio</span><br><br><span style=\"font-weight:bold;color:darkred\">Storing Data (Good) Exercises</span></div>"
   ]
  },
  {
   "cell_type": "markdown",
   "id": "87a1fe50-fd20-406e-94fc-a8f66ca36981",
   "metadata": {},
   "source": [
    "## Exercise 1"
   ]
  },
  {
   "cell_type": "markdown",
   "id": "8c4bf57c-752d-4a0c-a925-f5baeb9162d5",
   "metadata": {},
   "source": [
    "| Term    |  Brief description   |  \n",
    "| :--- | :-- |\n",
    "| Subsetting   |  select a subset from lists or arrays  |  \n",
    "| Indexing   |  select an element from lists or arrays  |   \n",
    "| Slicing   |  selecting a range of elements from lists or arrays  |  \n",
    "| Masking| select specific element(s) from arrays |"
   ]
  },
  {
   "cell_type": "markdown",
   "id": "2971baab-9b2e-4f58-b670-1c990f0b05fc",
   "metadata": {},
   "source": [
    "## Exercise 2"
   ]
  },
  {
   "cell_type": "code",
   "execution_count": 1,
   "id": "081a78bd-d1d2-4b1e-98d1-13fead3ed761",
   "metadata": {},
   "outputs": [
    {
     "name": "stdout",
     "output_type": "stream",
     "text": [
      "5\n",
      "['A', 'C', 'E', 'G', 'I']\n"
     ]
    }
   ],
   "source": [
    "import numpy as np\n",
    "np_array_2d = np.array([[1, \"A\"], [3, \"C\"], [2, \"B\"], [4, \"D\"],\n",
    "                        [5, \"E\"], [7, \"G\"], [6, \"F\"], [8, \"H\"],\n",
    "                        [10, \"J\"], [9, \"I\"]])\n",
    "num_array = np_array_2d[:,0]\n",
    "arr = num_array.astype(int)\n",
    "arr%2\n",
    "arr%2 == 1\n",
    "print(sum(arr%2))\n",
    "my_mask = (arr%2 == 1)\n",
    "masked = np_array_2d[my_mask]\n",
    "print(masked[:,1].tolist()) #cleaner presentation to get rid of \"dtype\""
   ]
  },
  {
   "cell_type": "markdown",
   "id": "098a28f7-907c-4384-937e-6aed3ce9e610",
   "metadata": {},
   "source": [
    "## Exercise 3"
   ]
  },
  {
   "cell_type": "code",
   "execution_count": 24,
   "id": "cceafbcb-3217-492f-9d33-af09df4880dc",
   "metadata": {},
   "outputs": [
    {
     "name": "stdout",
     "output_type": "stream",
     "text": [
      "[[ 1  0  1 -1 -1]\n",
      " [ 1 -1  1 -1 -1]\n",
      " [ 1 -1 -1  1 -1]\n",
      " [-1  1  1 -1 -1]\n",
      " [ 1 -1  1 -1  1]]\n"
     ]
    }
   ],
   "source": [
    "np_array = np.array(\n",
    "    [[66, 50, 57, -1, -1],\n",
    "     [92, -1, 88, -1, -1],\n",
    "     [75, -1, -1, 76, -1],\n",
    "     [-1, 51, 87, -1, -1],\n",
    "     [71, -1, 67, -1, 69]])\n",
    "mask1 = np_array < 50\n",
    "np_array[mask1]\n",
    "mask2 = np_array > 50\n",
    "np_array[mask2] = int(1)\n",
    "mask3 = np_array == 50\n",
    "np_array[mask3] = int(0)\n",
    "\n",
    "print(np_array)\n"
   ]
  }
 ],
 "metadata": {
  "kernelspec": {
   "display_name": "Python 3 (ipykernel)",
   "language": "python",
   "name": "python3"
  },
  "language_info": {
   "codemirror_mode": {
    "name": "ipython",
    "version": 3
   },
   "file_extension": ".py",
   "mimetype": "text/x-python",
   "name": "python",
   "nbconvert_exporter": "python",
   "pygments_lexer": "ipython3",
   "version": "3.13.5"
  },
  "toc": {
   "base_numbering": 1,
   "nav_menu": {},
   "number_sections": true,
   "sideBar": true,
   "skip_h1_title": false,
   "title_cell": "Table of Contents",
   "title_sidebar": "Contents",
   "toc_cell": false,
   "toc_position": {},
   "toc_section_display": true,
   "toc_window_display": false
  },
  "vscode": {
   "interpreter": {
    "hash": "31f2aee4e71d21fbe5cf8b01ff0e069b9275f58929596ceb00d14d90e3e16cd6"
   }
  }
 },
 "nbformat": 4,
 "nbformat_minor": 5
}
