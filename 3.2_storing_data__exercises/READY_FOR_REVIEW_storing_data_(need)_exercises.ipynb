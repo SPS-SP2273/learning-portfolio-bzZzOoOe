{
 "cells": [
  {
   "attachments": {},
   "cell_type": "markdown",
   "id": "123456",
   "metadata": {},
   "source": [
    "<div style=\"text-align:left;font-size:2em\"><span style=\"font-weight:bolder;font-size:1.25em\">SP2273 | Learning Portfolio</span><br><br><span style=\"font-weight:bold;color:darkred\">Storing Data (Need) Exercises</span></div>"
   ]
  },
  {
   "cell_type": "markdown",
   "id": "7442cc11-3165-457a-a880-f93d17fd0c8e",
   "metadata": {},
   "source": [
    "## Exercise 1"
   ]
  },
  {
   "cell_type": "markdown",
   "id": "b9ead603-00d6-49ac-88c8-d11d0e13889c",
   "metadata": {},
   "source": [
    "1. 2 similarities between lists & arrays.\n",
    "   \n",
    "   Data in both lists and arrays need to be accessed with 0 as the starting number(for the first element)\n",
    "   \n",
    "   Both lists and arrays can be used to find sum, maximum, and minimum of numbers in them\n",
    "\n",
    "2. 2 differences between lists & arrays\n",
    "   \n",
    "   Arrays can be used to calculate mean and standard deviation but lists cannot\n",
    "   \n",
    "   Arrays only accept 1 type of data while lists can accept different types\n",
    "\n",
    "3. What is a dictionary?\n",
    "   \n",
    "   It is a way to store data in 1 structure by using the format of key : associated value "
   ]
  },
  {
   "cell_type": "markdown",
   "id": "8feb9d36-7401-4092-a9fe-b45cd0aac103",
   "metadata": {},
   "source": [
    "## Exercise 2"
   ]
  },
  {
   "cell_type": "code",
   "execution_count": 1,
   "id": "0f0c5838-d238-40ae-b487-5d3efa73ad89",
   "metadata": {},
   "outputs": [
    {
     "name": "stdout",
     "output_type": "stream",
     "text": [
      "a1\n",
      "c3\n",
      "e5\n",
      "g7\n",
      "i9\n"
     ]
    }
   ],
   "source": [
    "py_list = [\"a1\", \"b2\", \"c3\", \"d4\", \"e5\", \"f6\", \"g7\", \"h8\", \"i9\", \"j10\"]\n",
    "print(py_list[0])   # Prints 'a1'\n",
    "print(py_list[2])   # Prints 'c3'\n",
    "print(py_list[4])   # Prints 'e5'\n",
    "print(py_list[6])   # Prints 'g7'\n",
    "print(py_list[8])   # Prints 'i9'"
   ]
  },
  {
   "cell_type": "markdown",
   "id": "2f4dc5b8-9590-4e04-a7e9-b733501e52c4",
   "metadata": {},
   "source": [
    "## Exercise 3"
   ]
  },
  {
   "cell_type": "code",
   "execution_count": 3,
   "id": "ec9e1f21-945a-415e-b697-0fc06a329f48",
   "metadata": {},
   "outputs": [
    {
     "name": "stdout",
     "output_type": "stream",
     "text": [
      "Boron\n",
      "Boron\n"
     ]
    }
   ],
   "source": [
    "elements = ['Hydrogen',\n",
    "            'Helium', 'Lithium',\n",
    "            'Beryllium', 'Boron', 'Carbon',\n",
    "            'Nitrogen', 'Oxygen',\n",
    "            'Fluorine',\n",
    "            'Neon']\n",
    "py_list = elements\n",
    "print(py_list[4])\n",
    "print(py_list[-6])"
   ]
  },
  {
   "cell_type": "markdown",
   "id": "bc5febc5-5626-49a1-81b9-ca21e6eff739",
   "metadata": {},
   "source": [
    "## Exercise 4"
   ]
  },
  {
   "cell_type": "code",
   "execution_count": 8,
   "id": "cb2d1ac4-8c04-4e14-9e1a-bc32763bebb2",
   "metadata": {},
   "outputs": [
    {
     "name": "stdout",
     "output_type": "stream",
     "text": [
      "9\n"
     ]
    }
   ],
   "source": [
    "numbers=[45, 60, 1, 30, 96, 1, 96, 57, 16, 1,\n",
    "        99, 62, 86, 43, 42, 60, 59, 1, 1, 35,\n",
    "        83, 47, 34, 28, 68, 23, 22, 92, 1, 79,\n",
    "        1, 29, 94, 72, 46, 47, 1, 74, 32, 20,\n",
    "        8, 37, 35, 1, 89, 29, 86, 19, 43, 61]\n",
    "import numpy as np\n",
    "np_array = np.array(numbers)\n",
    "np_array == 1\n",
    "sum(np_array == 1)\n",
    "print(sum(np_array == 1))"
   ]
  },
  {
   "cell_type": "markdown",
   "id": "6413f7fc-d1f4-4bd6-8924-8930c96c60eb",
   "metadata": {},
   "source": [
    "## Exercise 5"
   ]
  },
  {
   "cell_type": "code",
   "execution_count": 28,
   "id": "7d9d1a19-c113-4069-9059-c2c06ccfaa0a",
   "metadata": {},
   "outputs": [
    {
     "name": "stdout",
     "output_type": "stream",
     "text": [
      "x1 mean: 38.5\n",
      "x2 mean: 302.5\n",
      "x1 standard deviation: 32.41990129534635\n",
      "x2 standard deviation: 326.0893282522444\n",
      "r: 0.9871796626270701\n",
      "r: 0.9871796626270701\n"
     ]
    }
   ],
   "source": [
    "import numpy as np\n",
    "x_1 = [1, 4, 9, 16, 25, 36, 49, 64, 81, 100]\n",
    "x_2 = [1, 8, 27, 64, 125, 216, 343, 512, 729, 1000]\n",
    "np_1_array = np.array(x_1)\n",
    "np_2_array = np.array(x_2)\n",
    "print(\"x1 mean:\",np_1_array.mean())\n",
    "print(\"x2 mean:\",np_2_array.mean())\n",
    "print(\"x1 standard deviation:\",np_1_array.std())\n",
    "print(\"x2 standard deviation:\",np_2_array.std())\n",
    "print(\"r:\", sum((np_1_array - np_1_array.mean())*(np_2_array - np_2_array.mean()))/(np_1_array.std()*np_2_array.std()*np.sqrt(len(np_1_array)*len(np_2_array))))\n",
    "r = np.corrcoef(np_1_array,np_2_array)\n",
    "print(\"r:\",r[0][1])\n",
    "# be careful of the bracket :)\n"
   ]
  }
 ],
 "metadata": {
  "kernelspec": {
   "display_name": "Python 3 (ipykernel)",
   "language": "python",
   "name": "python3"
  },
  "language_info": {
   "codemirror_mode": {
    "name": "ipython",
    "version": 3
   },
   "file_extension": ".py",
   "mimetype": "text/x-python",
   "name": "python",
   "nbconvert_exporter": "python",
   "pygments_lexer": "ipython3",
   "version": "3.13.5"
  },
  "toc": {
   "base_numbering": 1,
   "nav_menu": {},
   "number_sections": true,
   "sideBar": true,
   "skip_h1_title": false,
   "title_cell": "Table of Contents",
   "title_sidebar": "Contents",
   "toc_cell": false,
   "toc_position": {},
   "toc_section_display": true,
   "toc_window_display": false
  },
  "vscode": {
   "interpreter": {
    "hash": "31f2aee4e71d21fbe5cf8b01ff0e069b9275f58929596ceb00d14d90e3e16cd6"
   }
  }
 },
 "nbformat": 4,
 "nbformat_minor": 5
}
