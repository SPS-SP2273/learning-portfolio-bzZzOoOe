{
 "cells": [
  {
   "attachments": {},
   "cell_type": "markdown",
   "id": "123456",
   "metadata": {},
   "source": [
    "<div style=\"text-align:left;font-size:2em\"><span style=\"font-weight:bolder;font-size:1.25em\">SP2273 | Learning Portfolio</span><br><br><span style=\"font-weight:bold;color:darkred\">Loops (Good) Exercises</span></div>"
   ]
  },
  {
   "cell_type": "markdown",
   "id": "9491d141-f700-46a4-abb2-3d5db5886fcf",
   "metadata": {},
   "source": [
    "## Exercise 1"
   ]
  },
  {
   "cell_type": "code",
   "execution_count": 66,
   "id": "80e86609-2a08-489d-844a-48b76cb51c05",
   "metadata": {},
   "outputs": [
    {
     "name": "stdout",
     "output_type": "stream",
     "text": [
      "358 ns ± 5.17 ns per loop (mean ± std. dev. of 7 runs, 1,000,000 loops each)\n"
     ]
    }
   ],
   "source": [
    "%%timeit\n",
    "x = [] #empty list\n",
    "for power in range(10):\n",
    "    number = power ** 2\n",
    "    if number % 2 == 0:\n",
    "        continue \n",
    "    x.append(number) #number with even number removed, then incorporate elements\n",
    "x\n"
   ]
  },
  {
   "cell_type": "markdown",
   "id": "542bd0d7-ef43-44fb-9a60-a2b7a246bc18",
   "metadata": {},
   "source": [
    "## Exercise 2"
   ]
  },
  {
   "cell_type": "code",
   "execution_count": 68,
   "id": "f65b47fe-efde-476c-85c2-0361fd733c71",
   "metadata": {},
   "outputs": [
    {
     "name": "stdout",
     "output_type": "stream",
     "text": [
      "259 ns ± 1.57 ns per loop (mean ± std. dev. of 7 runs, 1,000,000 loops each)\n"
     ]
    }
   ],
   "source": [
    "%%timeit\n",
    "[number**2 for number in range(10) if number % 2 == 1]\n",
    "#this is faster"
   ]
  },
  {
   "cell_type": "markdown",
   "id": "7997470a-596b-44fd-a866-9bc79852647a",
   "metadata": {},
   "source": [
    "## Exercise 4"
   ]
  },
  {
   "cell_type": "code",
   "execution_count": 108,
   "id": "9ced6844-f322-4397-91e1-7b08f1bd1422",
   "metadata": {},
   "outputs": [
    {
     "name": "stdout",
     "output_type": "stream",
     "text": [
      "0 year : 100.0\n",
      "1 year : 95.0\n",
      "2 year : 90.25\n",
      "3 year : 85.73749999999998\n",
      "4 year : 81.45062499999999\n",
      "5 year : 77.37809374999998\n",
      "6 year : 73.50918906249998\n",
      "7 year : 69.83372960937497\n",
      "8 year : 66.34204312890623\n",
      "9 year : 63.02494097246091\n",
      "10 year : 59.87369392383787\n",
      "11 year : 56.880009227645964\n",
      "12 year : 54.03600876626366\n",
      "13 year : 51.33420832795048\n",
      "The sample will take 14 years to reduce to half its original amount.\n"
     ]
    }
   ],
   "source": [
    "number=0\n",
    "while True:\n",
    "    x = 100*(1-0.05)**number\n",
    "    number += 1\n",
    "    if x < 50: break\n",
    "    print(f'{number - 1} year : {x}')\n",
    "print(f'The sample will take {number - 1} years to reduce to half its original amount.')\n",
    "# do i need to get the exact time?"
   ]
  },
  {
   "cell_type": "markdown",
   "id": "3eef7a91-8d5b-46d3-a13d-62fbc90fd376",
   "metadata": {},
   "source": [
    "## Exercise 5"
   ]
  },
  {
   "cell_type": "code",
   "execution_count": 101,
   "id": "5271ab96-1653-4fb8-b4a8-0f78e1a556bd",
   "metadata": {},
   "outputs": [
    {
     "name": "stdout",
     "output_type": "stream",
     "text": [
      "2016, 3.41 ppm increase in concentration\n"
     ]
    }
   ],
   "source": [
    "co2_data = [\n",
    "    (2000, 369.55), (2001, 371.14), (2002, 373.28), \n",
    "    (2003, 375.80), (2004, 377.52), (2005, 379.80), \n",
    "    (2006, 381.90), (2007, 383.79), (2008, 385.60), \n",
    "    (2009, 387.43), (2010, 389.90), (2011, 391.65), \n",
    "    (2012, 393.85), (2013, 396.52), (2014, 398.65),\n",
    "    (2015, 400.83), (2016, 404.24), (2017, 406.55), \n",
    "    (2018, 408.52), (2019, 411.44), (2020, 414.24)\n",
    "]\n",
    "for number in range(len(co2_data)):\n",
    "    if co2_data[number - 1][1] > co2_data[number][1] - 3:\n",
    "        continue\n",
    "    x = co2_data[number][1] - co2_data[number-1][1]\n",
    "    print(f'{co2_data[number][0]}, {x:.2f} ppm increase in concentration')\n",
    "    \n",
    "    "
   ]
  }
 ],
 "metadata": {
  "kernelspec": {
   "display_name": "Python 3 (ipykernel)",
   "language": "python",
   "name": "python3"
  },
  "language_info": {
   "codemirror_mode": {
    "name": "ipython",
    "version": 3
   },
   "file_extension": ".py",
   "mimetype": "text/x-python",
   "name": "python",
   "nbconvert_exporter": "python",
   "pygments_lexer": "ipython3",
   "version": "3.13.5"
  },
  "toc": {
   "base_numbering": 1,
   "nav_menu": {},
   "number_sections": true,
   "sideBar": true,
   "skip_h1_title": false,
   "title_cell": "Table of Contents",
   "title_sidebar": "Contents",
   "toc_cell": false,
   "toc_position": {},
   "toc_section_display": true,
   "toc_window_display": false
  },
  "vscode": {
   "interpreter": {
    "hash": "31f2aee4e71d21fbe5cf8b01ff0e069b9275f58929596ceb00d14d90e3e16cd6"
   }
  }
 },
 "nbformat": 4,
 "nbformat_minor": 5
}
