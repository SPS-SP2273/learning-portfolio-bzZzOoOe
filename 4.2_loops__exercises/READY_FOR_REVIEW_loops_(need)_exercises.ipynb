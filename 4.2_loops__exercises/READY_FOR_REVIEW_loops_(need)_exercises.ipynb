{
 "cells": [
  {
   "attachments": {},
   "cell_type": "markdown",
   "id": "123456",
   "metadata": {},
   "source": [
    "<div style=\"text-align:left;font-size:2em\"><span style=\"font-weight:bolder;font-size:1.25em\">SP2273 | Learning Portfolio</span><br><br><span style=\"font-weight:bold;color:darkred\">Loops (Need) Exercises</span></div>"
   ]
  },
  {
   "cell_type": "markdown",
   "id": "d578160f-9e39-405e-aef8-9e624ac4047a",
   "metadata": {},
   "source": [
    "## Exercise 1 "
   ]
  },
  {
   "cell_type": "code",
   "execution_count": 17,
   "id": "89683ee7-4f60-4d88-8356-31a92ae42e2a",
   "metadata": {},
   "outputs": [
    {
     "name": "stdout",
     "output_type": "stream",
     "text": [
      "0, 32.0\n",
      "5, 41.0\n",
      "10, 50.0\n",
      "15, 59.0\n",
      "20, 68.0\n",
      "25, 77.0\n",
      "30, 86.0\n",
      "35, 95.0\n",
      "40, 104.0\n",
      "45, 113.0\n",
      "50, 122.0\n"
     ]
    }
   ],
   "source": [
    "import numpy as np\n",
    "temperatures_celsius = [\n",
    "    0, 5, 10, 15, 20, 25,\n",
    "    30, 35, 40, 45, 50\n",
    "]\n",
    "T_celsius = np.array(temperatures_celsius)\n",
    "T_fahrenheit = T_celsius*9/5+32\n",
    "for index, T_Celsius in enumerate(T_celsius):\n",
    "    T_Fahrenheit = T_fahrenheit[index]\n",
    "    print(f\"{T_Celsius}, {T_Fahrenheit}\")"
   ]
  },
  {
   "cell_type": "markdown",
   "id": "88c3a78f-e0cc-4975-a298-01c10923e610",
   "metadata": {},
   "source": [
    "## Exercise 2"
   ]
  },
  {
   "cell_type": "code",
   "execution_count": 33,
   "id": "fc5fbbc4-c3ca-44c0-9bda-fe485fb4f20a",
   "metadata": {},
   "outputs": [
    {
     "name": "stdout",
     "output_type": "stream",
     "text": [
      "A1\tA2\tA3\t\n",
      "\n",
      "B1\tB2\tB3\t\n",
      "\n",
      "C1\tC2\tC3\t\n",
      "\n"
     ]
    }
   ],
   "source": [
    "for letter in ['A', 'B', 'C']: #arrange in column\n",
    "    for number in [1, 2, 3]:  #arrange in row\n",
    "        print(f'{letter}{number}', end = '\\t') #\\t is to format - provide space for row & turn column to row\n",
    "    print('\\n') #\\n is to format - provide space for column"
   ]
  },
  {
   "cell_type": "code",
   "execution_count": 227,
   "id": "5def7fa7-d60e-4d4b-9182-8c4d3ea9fe90",
   "metadata": {},
   "outputs": [
    {
     "name": "stdout",
     "output_type": "stream",
     "text": [
      "1 : 1   2   3   4   5   \n",
      "2 : 2   4   6   8   10  \n",
      "3 : 3   6   9   12  15  \n",
      "4 : 4   8   12  16  20  \n",
      "5 : 5   10  15  20  25  \n"
     ]
    }
   ],
   "source": [
    "for i in range(1, 6):\n",
    "    print(f'{i} : ', end='')\n",
    "    for j in range(1, 6):\n",
    "        print(f'{i*j:<4}', end = '') \n",
    "    print('')\n",
    "\n",
    "# \\n is to start a new line\n",
    "# use f string to align (fundamentals good)\n",
    "# need to use first column to build on the rest by multiplication e.g 1*1, 1*2; \n",
    "# so need to make the first column number using i & range\n",
    "# then create a loop inside, then multiply "
   ]
  },
  {
   "cell_type": "code",
   "execution_count": 159,
   "id": "ed2dc406-e716-4657-a855-b0b46f7d3f66",
   "metadata": {},
   "outputs": [
    {
     "name": "stdout",
     "output_type": "stream",
     "text": [
      "1 :\t 1\t2\t3\t4\t5\t\n",
      "\n",
      "2 :\t 2\t4\t6\t8\t10\t\n",
      "\n",
      "3 :\t 3\t6\t9\t12\t15\t\n",
      "\n",
      "4 :\t 4\t8\t12\t16\t20\t\n",
      "\n",
      "5 :\t 5\t10\t15\t20\t25\t\n",
      "\n"
     ]
    }
   ],
   "source": [
    "#dumb method\n",
    "for letter in [ '1 :',' 1', '2', '3', '4', '5']:\n",
    "    print(f'{letter}', end='\\t')\n",
    "print('\\n')\n",
    "for letter in [ '2 :',' 2', '4', '6', '8', '10']:\n",
    "    print(f'{letter}', end='\\t')\n",
    "print('\\n')\n",
    "for letter in [ '3 :',' 3', '6', '9', '12', '15']:\n",
    "    print(f'{letter}', end='\\t')\n",
    "print('\\n')\n",
    "for letter in [ '4 :',' 4', '8', '12', '16', '20']:\n",
    "    print(f'{letter}', end='\\t')\n",
    "print('\\n')\n",
    "for letter in [ '5 :',' 5', '10', '15', '20', '25']:\n",
    "    print(f'{letter}', end='\\t')\n",
    "print('\\n')"
   ]
  },
  {
   "cell_type": "markdown",
   "id": "e005507b-2ec8-4cd3-a0ed-31ec4619d7e2",
   "metadata": {},
   "source": [
    "## Exercise 3"
   ]
  },
  {
   "cell_type": "code",
   "execution_count": 76,
   "id": "8cba74ec-b0f3-4400-ad56-4a456d412954",
   "metadata": {},
   "outputs": [
    {
     "name": "stdout",
     "output_type": "stream",
     "text": [
      "Experiment  1: No. of Heads = 5\n",
      "Experiment  2: No. of Heads = 4\n",
      "Experiment  3: No. of Heads = 4\n",
      "Experiment  4: No. of Heads = 6\n",
      "Experiment  5: No. of Heads = 5\n",
      "Experiment  6: No. of Heads = 7\n",
      "Experiment  7: No. of Heads = 4\n",
      "Experiment  8: No. of Heads = 4\n",
      "Experiment  9: No. of Heads = 4\n",
      "Experiment 10: No. of Heads = 3\n"
     ]
    }
   ],
   "source": [
    "import numpy as np\n",
    "for i in range(1,11):\n",
    "    array = np.random.rand(10) #this must be in the loop; if on the outside will only\n",
    "                               #replicate the result for 10 times\n",
    "    sum = np.sum(array > 0.5)\n",
    "    print(f'Experiment {i:>2}: No. of Heads = {sum}')"
   ]
  }
 ],
 "metadata": {
  "kernelspec": {
   "display_name": "Python 3 (ipykernel)",
   "language": "python",
   "name": "python3"
  },
  "language_info": {
   "codemirror_mode": {
    "name": "ipython",
    "version": 3
   },
   "file_extension": ".py",
   "mimetype": "text/x-python",
   "name": "python",
   "nbconvert_exporter": "python",
   "pygments_lexer": "ipython3",
   "version": "3.13.5"
  },
  "toc": {
   "base_numbering": 1,
   "nav_menu": {},
   "number_sections": true,
   "sideBar": true,
   "skip_h1_title": false,
   "title_cell": "Table of Contents",
   "title_sidebar": "Contents",
   "toc_cell": false,
   "toc_position": {},
   "toc_section_display": true,
   "toc_window_display": false
  },
  "vscode": {
   "interpreter": {
    "hash": "31f2aee4e71d21fbe5cf8b01ff0e069b9275f58929596ceb00d14d90e3e16cd6"
   }
  }
 },
 "nbformat": 4,
 "nbformat_minor": 5
}
