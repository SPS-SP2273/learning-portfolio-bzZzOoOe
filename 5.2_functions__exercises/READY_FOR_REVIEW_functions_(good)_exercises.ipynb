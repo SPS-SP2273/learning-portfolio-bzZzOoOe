{
 "cells": [
  {
   "cell_type": "markdown",
   "id": "473c2c2f-8679-4da3-bb12-1a64f4127cc1",
   "metadata": {},
   "source": [
    "<div style=\"text-align:left;font-size:2em\"><span style=\"font-weight:bolder;font-size:1.25em\">SP2273 | Learning Portfolio</span><br><br><span style=\"font-weight:bold;color:darkred\">Functions (Good) Exercises</span></div>"
   ]
  },
  {
   "cell_type": "markdown",
   "id": "9351c5b8-e977-47c7-8c22-d48366f968ce",
   "metadata": {},
   "source": [
    "## Exercise 1"
   ]
  },
  {
   "cell_type": "code",
   "execution_count": 50,
   "id": "082fc903-fb02-4c58-9863-753accac9a89",
   "metadata": {},
   "outputs": [
    {
     "data": {
      "text/plain": [
       "310.15"
      ]
     },
     "execution_count": 50,
     "metadata": {},
     "output_type": "execute_result"
    }
   ],
   "source": [
    "def convert_celsius(temperature_celsius, target_scale = 'Fahrenheit'):\n",
    "    if target_scale == 'Kelvin':\n",
    "        return temperature_celsius + 273.15\n",
    "    elif target_scale == 'Celsius':\n",
    "        return temperature_celsius\n",
    "    else:\n",
    "        return (temperature_celsius * 9/5) + 32\n",
    "convert_celsius(37)\n",
    "convert_celsius(37, 'Kelvin')"
   ]
  },
  {
   "cell_type": "markdown",
   "id": "a75ff3ec-027d-4de9-9939-832449e6b205",
   "metadata": {},
   "source": [
    "## Exercise 2"
   ]
  },
  {
   "cell_type": "code",
   "execution_count": 47,
   "id": "a9e42726-bd0b-4cff-b9f4-29fa305228b5",
   "metadata": {},
   "outputs": [
    {
     "data": {
      "text/plain": [
       "310.92777777777775"
      ]
     },
     "execution_count": 47,
     "metadata": {},
     "output_type": "execute_result"
    }
   ],
   "source": [
    "def convert_fahrenheit(temperature_fahrenheit, target_scale = 'Celsius'):\n",
    "    if target_scale == 'Kelvin':\n",
    "        return (temperature_fahrenheit - 32) * 5/9 + 273.15\n",
    "    elif target_scale == 'Fahrenheit':\n",
    "        return temperature_fahrenheit\n",
    "    else:\n",
    "        return (temperature_fahrenheit - 32) * 5/9\n",
    "convert_fahrenheit(100)\n",
    "convert_fahrenheit(100,'Kelvin')"
   ]
  },
  {
   "cell_type": "markdown",
   "id": "45386265-d773-46a4-9671-2deaf086a8e8",
   "metadata": {},
   "source": [
    "## Exercise 3"
   ]
  },
  {
   "cell_type": "code",
   "execution_count": 55,
   "id": "3b9751ef-02de-4df3-b57a-3032c8560f26",
   "metadata": {},
   "outputs": [
    {
     "data": {
      "text/plain": [
       "80.33000000000004"
      ]
     },
     "execution_count": 55,
     "metadata": {},
     "output_type": "execute_result"
    }
   ],
   "source": [
    "def convert_temperature(temperature, source_scale, target_scale):\n",
    "    if source_scale == 'Celsius':\n",
    "        return convert_celsius(temperature, target_scale)\n",
    "    elif source_scale == 'Fahrenheit':\n",
    "        return convert_fahrenheit(temperature, target_scale)\n",
    "    elif source_scale == 'Kelvin':\n",
    "        temperature_celsius = temperature - 273.15\n",
    "        return convert_celsius(temperature_celsius, target_scale)\n",
    "\n",
    "convert_temperature(300,'Kelvin', 'Fahrenheit')"
   ]
  }
 ],
 "metadata": {
  "kernelspec": {
   "display_name": "Python 3 (ipykernel)",
   "language": "python",
   "name": "python3"
  },
  "language_info": {
   "codemirror_mode": {
    "name": "ipython",
    "version": 3
   },
   "file_extension": ".py",
   "mimetype": "text/x-python",
   "name": "python",
   "nbconvert_exporter": "python",
   "pygments_lexer": "ipython3",
   "version": "3.13.5"
  },
  "toc": {
   "base_numbering": 1,
   "nav_menu": {},
   "number_sections": true,
   "sideBar": true,
   "skip_h1_title": false,
   "title_cell": "Table of Contents",
   "title_sidebar": "Contents",
   "toc_cell": false,
   "toc_position": {},
   "toc_section_display": true,
   "toc_window_display": false
  },
  "vscode": {
   "interpreter": {
    "hash": "31f2aee4e71d21fbe5cf8b01ff0e069b9275f58929596ceb00d14d90e3e16cd6"
   }
  }
 },
 "nbformat": 4,
 "nbformat_minor": 5
}
