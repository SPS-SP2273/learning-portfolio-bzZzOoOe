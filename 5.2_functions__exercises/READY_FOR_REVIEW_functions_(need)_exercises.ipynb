{
 "cells": [
  {
   "cell_type": "markdown",
   "id": "12bc18ce-9a69-4cbc-afac-8cba219d2678",
   "metadata": {},
   "source": [
    "<div style=\"text-align:left;font-size:2em\"><span style=\"font-weight:bolder;font-size:1.25em\">SP2273 | Learning Portfolio</span><br><br><span style=\"font-weight:bold;color:darkred\">Functions (Need) Exercises</span></div>"
   ]
  },
  {
   "cell_type": "markdown",
   "id": "f37082ae-f2ba-41e1-9c53-673d5d30ce3c",
   "metadata": {},
   "source": [
    "## Exercise 1"
   ]
  },
  {
   "cell_type": "code",
   "execution_count": 5,
   "id": "a35e5daf-997c-422f-807b-84735cb745cf",
   "metadata": {},
   "outputs": [],
   "source": [
    "def greeting(name):\n",
    "    if name == 'Batman':\n",
    "        return 'Hello Batman! So, nice to meet you!'\n",
    "    return f'Hello {name}!'\n",
    "greeting(\"Super Man\")"
   ]
  },
  {
   "cell_type": "markdown",
   "id": "51324197-7cee-4ed4-9339-d1afb58753fd",
   "metadata": {},
   "source": [
    "The indentation of return f'Hello {name}!' code is the same level as if name == 'Batman'\n",
    "As a result, when the cell runs, it check whether the if condition has been fulfilled, if not, it goes to return f'Hello {name}!' and gives the respective output."
   ]
  },
  {
   "cell_type": "markdown",
   "id": "b893f780-b7cb-4b00-b4f5-620098c8d99a",
   "metadata": {},
   "source": [
    "## Exercise 2"
   ]
  },
  {
   "cell_type": "code",
   "execution_count": 3,
   "id": "cf43ff1c-5084-4847-9f30-03ed6cba9d3e",
   "metadata": {},
   "outputs": [
    {
     "name": "stdin",
     "output_type": "stream",
     "text": [
      "Can I have your weight in kilograms? 56\n",
      "Can I have your height in meters 1.62\n"
     ]
    },
    {
     "name": "stdout",
     "output_type": "stream",
     "text": [
      "your BMI is 21.338210638622158 and you are Normal weight\n"
     ]
    }
   ],
   "source": [
    "weight = float(input('Can I have your weight in kilograms?')) #need to convert to \n",
    "height = float(input('Can I have your height in meters')) #actual decimal using float\n",
    "BMI = weight / (height**2) #if put in loop cannot define BMI, so need define before loop\n",
    "\n",
    "def calculate_bmi(weight, height):\n",
    "    if BMI < 18.5:\n",
    "        return 'Underweight'\n",
    "    elif 18.5 <= BMI <= 24.9:\n",
    "        return 'Normal weight'\n",
    "    elif 25 <= BMI <= 29.9:\n",
    "        return 'Overweight'\n",
    "    else: \n",
    "        return 'Obese'\n",
    "print(f'your BMI is {BMI} and you are {calculate_bmi(weight, height)}')"
   ]
  },
  {
   "cell_type": "markdown",
   "id": "5eab5471-c4f5-4bb5-8198-2bce42069b18",
   "metadata": {},
   "source": [
    "## Exercise 3"
   ]
  },
  {
   "cell_type": "code",
   "execution_count": 16,
   "id": "cb13506a-ac8c-4042-9e0b-e2e5a1c5f6de",
   "metadata": {},
   "outputs": [
    {
     "name": "stdin",
     "output_type": "stream",
     "text": [
      "Please key in an integer if you want to find its factorial. 28\n"
     ]
    },
    {
     "name": "stdout",
     "output_type": "stream",
     "text": [
      "28! : 304888344611713860501504000000\n"
     ]
    }
   ],
   "source": [
    "import math\n",
    "import sys\n",
    "sys.set_int_max_str_digits(0) # sys to overcome 4300 limit, put 0 in bracket \n",
    "                              # to disable limit - to infinity\n",
    "n = int(input('Please key in an integer if you want to find its factorial.'))\n",
    "def factorial(n):\n",
    "    if n >= 0:\n",
    "        return math.factorial(n)       \n",
    "    else:\n",
    "        return'Sorry but negative number does not have factorial :('\n",
    "print(f'{n}! : {factorial(n)}')"
   ]
  },
  {
   "cell_type": "code",
   "execution_count": null,
   "id": "42217b1e-8a07-437c-b114-c2ba4c3e09b5",
   "metadata": {},
   "outputs": [],
   "source": []
  }
 ],
 "metadata": {
  "kernelspec": {
   "display_name": "Python 3 (ipykernel)",
   "language": "python",
   "name": "python3"
  },
  "language_info": {
   "codemirror_mode": {
    "name": "ipython",
    "version": 3
   },
   "file_extension": ".py",
   "mimetype": "text/x-python",
   "name": "python",
   "nbconvert_exporter": "python",
   "pygments_lexer": "ipython3",
   "version": "3.13.5"
  },
  "toc": {
   "base_numbering": 1,
   "nav_menu": {},
   "number_sections": true,
   "sideBar": true,
   "skip_h1_title": false,
   "title_cell": "Table of Contents",
   "title_sidebar": "Contents",
   "toc_cell": false,
   "toc_position": {},
   "toc_section_display": true,
   "toc_window_display": false
  },
  "vscode": {
   "interpreter": {
    "hash": "31f2aee4e71d21fbe5cf8b01ff0e069b9275f58929596ceb00d14d90e3e16cd6"
   }
  }
 },
 "nbformat": 4,
 "nbformat_minor": 5
}
