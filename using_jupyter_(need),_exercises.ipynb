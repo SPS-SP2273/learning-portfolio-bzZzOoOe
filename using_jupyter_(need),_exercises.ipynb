{
 "cells": [
  {
   "attachments": {},
   "cell_type": "markdown",
   "id": "123456",
   "metadata": {},
   "source": [
    "<div style=\"text-align:left;font-size:2em\"><span style=\"font-weight:bolder;font-size:1.25em\">SP2273 | Learning Portfolio</span><br><br><span style=\"font-weight:bold;color:darkred\">Using Jupyter (Need), Exercises</span></div>"
   ]
  },
  {
   "attachments": {},
   "cell_type": "markdown",
   "id": "9872b7e3",
   "metadata": {},
   "source": [
    "## 1 Quadratic Equations"
   ]
  },
  {
   "attachments": {},
   "cell_type": "markdown",
   "id": "58dbed8b",
   "metadata": {},
   "source": [
    "### Introduction"
   ]
  },
  {
   "cell_type": "markdown",
   "id": "5490622f-ecd6-4058-9cbf-17aabfebb458",
   "metadata": {},
   "source": [
    "\n",
    "![](https://upload.wikimedia.org/wikipedia/commons/thumb/f/f8/Polynomialdeg2.svg/300px-Polynomialdeg2.svg.png)\n",
    "\n",
    "(Image from the [Wikipedia page on Quadratic equations](https://en.wikipedia.org/wiki/Quadratic_equation))\n",
    "\n",
    "The general form of a quadratic equation is:\n",
    "\n",
    "$$\n",
    "ax^{2}+bx+c=0\n",
    "$$\n"
   ]
  },
  {
   "attachments": {},
   "cell_type": "markdown",
   "id": "1b1ecfba",
   "metadata": {},
   "source": [
    "### Solutions"
   ]
  },
  {
   "cell_type": "markdown",
   "id": "9d25528f-b2b7-414d-b5de-65176e966711",
   "metadata": {},
   "source": [
    "\n",
    "Provided $a\\ne0$, we can use an elementary algebraic method called [completing the square](https://en.wikipedia.org/wiki/Completing_the_square) to show that a quadratic equation has the following solution:\n",
    "$$\n",
    "x = \\dfrac{-b \\pm \\sqrt{b^2-4ac}}{2a}\n",
    "$$"
   ]
  },
  {
   "attachments": {},
   "cell_type": "markdown",
   "id": "109e91e7",
   "metadata": {},
   "source": [
    "### Discriminant"
   ]
  },
  {
   "cell_type": "markdown",
   "id": "cabcf2ed-1f0a-40f7-9c88-be3e97369d4c",
   "metadata": {},
   "source": [
    "\n",
    "The quantity $\\Delta = b^2-4ac$ is called the **discriminant** of the equation and decides the nature of its solutions. The table below shows the various possibilities.\n"
   ]
  },
  {
   "cell_type": "markdown",
   "id": "04b879f3-cfd8-47cb-87b3-9fb222810c96",
   "metadata": {},
   "source": [
    "|  **Discriminant**   |  **Roots** |\n",
    "| :---: | :-- | \n",
    "| $\\Delta = b^2-4ac=0$ | A single solution of $-b\\dfrac(2a)$|\n",
    "|  $\\Delta = b^2-4ac\\gt0$  |  Two distinct solutions  |  \n",
    "| $\\Delta = b^2-4ac\\geq0$  |  No real solutions; both are complex  |  "
   ]
  },
  {
   "cell_type": "markdown",
   "id": "6fe46e67-6039-4a73-b4c7-63c04e38b6ce",
   "metadata": {},
   "source": [
    "### Exercise 2 (In Your Own Words)"
   ]
  },
  {
   "cell_type": "markdown",
   "id": "fc8675e4-9b25-4a23-a53f-e95f32df2c09",
   "metadata": {},
   "source": [
    "1. What is a Git **repository**?"
   ]
  },
  {
   "cell_type": "markdown",
   "id": "ac68fb9f-86fd-46a8-a9fe-4ba49487b315",
   "metadata": {},
   "source": [
    "2. Git keeps track of __ BLANK __ in the files in our repository."
   ]
  },
  {
   "cell_type": "markdown",
   "id": "32567292-58d4-4196-9553-1c4739d9ea94",
   "metadata": {},
   "source": [
    "3. What is a **commit**?"
   ]
  },
  {
   "cell_type": "markdown",
   "id": "f8429556-52e3-4ad4-9fa2-6c5218ec1284",
   "metadata": {},
   "source": [
    "4. What is a **push**?"
   ]
  },
  {
   "cell_type": "markdown",
   "id": "d1cdc2b4-2678-483a-b45f-119bc683c50a",
   "metadata": {},
   "source": [
    "5. What is a **pull**?"
   ]
  },
  {
   "cell_type": "markdown",
   "id": "a262ed0f-45b2-4d09-bfa8-fdc494248949",
   "metadata": {},
   "source": [
    "6. What is the difference between **GitHub** and **GitHub Desktop**?"
   ]
  },
  {
   "cell_type": "markdown",
   "id": "097ae3db-d0bc-4616-aa34-9d9ce135a0ff",
   "metadata": {},
   "source": [
    "### Exercise 3 (A Matter of Statistics)"
   ]
  },
  {
   "cell_type": "markdown",
   "id": "cc395e0c-fab1-4f27-a3c4-15f5bb0ce85a",
   "metadata": {},
   "source": [
    "$$\n",
    "\\mu = \\dfrac{1}{n}\\sum_{i=1}^{n}x_{i}\n",
    "$$"
   ]
  },
  {
   "cell_type": "code",
   "execution_count": null,
   "id": "a4143160-96c6-4e37-804c-494b4b5e5d4c",
   "metadata": {},
   "outputs": [],
   "source": [
    "$$"
   ]
  },
  {
   "cell_type": "code",
   "execution_count": null,
   "id": "071d71a4-e600-4b1c-9a6c-df1011ede0f4",
   "metadata": {},
   "outputs": [],
   "source": []
  }
 ],
 "metadata": {
  "kernelspec": {
   "display_name": "Python 3 (ipykernel)",
   "language": "python",
   "name": "python3"
  },
  "language_info": {
   "codemirror_mode": {
    "name": "ipython",
    "version": 3
   },
   "file_extension": ".py",
   "mimetype": "text/x-python",
   "name": "python",
   "nbconvert_exporter": "python",
   "pygments_lexer": "ipython3",
   "version": "3.13.5"
  },
  "toc": {
   "base_numbering": 1,
   "nav_menu": {},
   "number_sections": true,
   "sideBar": true,
   "skip_h1_title": false,
   "title_cell": "Table of Contents",
   "title_sidebar": "Contents",
   "toc_cell": false,
   "toc_position": {},
   "toc_section_display": true,
   "toc_window_display": false
  },
  "vscode": {
   "interpreter": {
    "hash": "31f2aee4e71d21fbe5cf8b01ff0e069b9275f58929596ceb00d14d90e3e16cd6"
   }
  }
 },
 "nbformat": 4,
 "nbformat_minor": 5
}
